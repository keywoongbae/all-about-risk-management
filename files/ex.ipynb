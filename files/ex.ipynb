{
 "cells": [
  {
   "cell_type": "markdown",
   "metadata": {
    "id": "6TJyjytIzmFc"
   },
   "source": [
    "# 1. 필요한 라이브러리 로딩 및 데이터 불러오기, 전처리"
   ]
  },
  {
   "cell_type": "code",
   "execution_count": 83,
   "metadata": {
    "executionInfo": {
     "elapsed": 1786,
     "status": "ok",
     "timestamp": 1696932820910,
     "user": {
      "displayName": "Keywoong Bae",
      "userId": "10101473300544846909"
     },
     "user_tz": -540
    },
    "id": "nWBIwKS_chb2"
   },
   "outputs": [],
   "source": [
    "import optuna\n",
    "import numpy as np\n",
    "from sklearn.tree import DecisionTreeRegressor\n",
    "from sklearn.model_selection import train_test_split, cross_val_score\n",
    "from sklearn.metrics import mean_squared_error\n",
    "\n",
    "from tqdm import tqdm"
   ]
  },
  {
   "cell_type": "code",
   "execution_count": 2,
   "metadata": {
    "executionInfo": {
     "elapsed": 4278,
     "status": "ok",
     "timestamp": 1696932825185,
     "user": {
      "displayName": "Keywoong Bae",
      "userId": "10101473300544846909"
     },
     "user_tz": -540
    },
    "id": "55hCSdxGrDw3"
   },
   "outputs": [],
   "source": [
    "import pandas as pd\n",
    "import warnings; warnings.filterwarnings(action='ignore')\n",
    "\n",
    "X = pd.read_csv('features.csv', encoding='cp949')\n",
    "y = pd.read_csv('target.csv', encoding='cp949')\n",
    "X.drop(['ID'],axis =1, inplace =True)\n",
    "y.drop(['ID'],axis =1, inplace =True)\n",
    "\n",
    "from sklearn.model_selection import train_test_split\n",
    "X_train, X_test, y_train, y_test = train_test_split(X, y, test_size=0.3, random_state=0)"
   ]
  },
  {
   "cell_type": "code",
   "execution_count": 28,
   "metadata": {},
   "outputs": [
    {
     "data": {
      "text/plain": [
       "(11599, 4971, 11599, 4971)"
      ]
     },
     "execution_count": 28,
     "metadata": {},
     "output_type": "execute_result"
    }
   ],
   "source": [
    "len(X_train), len(X_test), len(y_train), len(y_test)"
   ]
  },
  {
   "cell_type": "markdown",
   "metadata": {
    "id": "uqDREkA3zruq"
   },
   "source": [
    "# 2. 여기는 최적의 파라미터를 찾는 과정\n"
   ]
  },
  {
   "cell_type": "code",
   "execution_count": 88,
   "metadata": {
    "executionInfo": {
     "elapsed": 5,
     "status": "ok",
     "timestamp": 1696932825695,
     "user": {
      "displayName": "Keywoong Bae",
      "userId": "10101473300544846909"
     },
     "user_tz": -540
    },
    "id": "DqiOPWTY4_EB",
    "scrolled": true
   },
   "outputs": [
    {
     "name": "stderr",
     "output_type": "stream",
     "text": [
      "[I 2023-10-10 21:40:52,882] A new study created in memory with name: no-name-b650dd01-0bf8-4692-a92e-a66f25239c81\n",
      "[I 2023-10-10 21:40:54,051] Trial 0 finished with value: -1131.278052771858 and parameters: {'max_depth': 552, 'min_samples_split': 3782, 'min_samples_leaf': 20, 'max_features': 0.10900000000000001, 'max_leaf_nodes': 698}. Best is trial 0 with value: -1131.278052771858.\n",
      "[I 2023-10-10 21:40:54,936] Trial 1 finished with value: -1059.256363387344 and parameters: {'max_depth': 279, 'min_samples_split': 4576, 'min_samples_leaf': 10, 'max_features': 0.21400000000000002, 'max_leaf_nodes': 175}. Best is trial 1 with value: -1059.256363387344.\n",
      "[I 2023-10-10 21:40:55,685] Trial 2 finished with value: -1171.9602689241674 and parameters: {'max_depth': 197, 'min_samples_split': 8721, 'min_samples_leaf': 26, 'max_features': 0.222, 'max_leaf_nodes': 644}. Best is trial 1 with value: -1059.256363387344.\n",
      "[I 2023-10-10 21:40:56,567] Trial 3 finished with value: -1040.493234125849 and parameters: {'max_depth': 127, 'min_samples_split': 8514, 'min_samples_leaf': 21, 'max_features': 0.547, 'max_leaf_nodes': 498}. Best is trial 3 with value: -1040.493234125849.\n",
      "[I 2023-10-10 21:40:57,756] Trial 4 finished with value: -920.9653929938853 and parameters: {'max_depth': 84, 'min_samples_split': 586, 'min_samples_leaf': 24, 'max_features': 0.20900000000000002, 'max_leaf_nodes': 510}. Best is trial 4 with value: -920.9653929938853.\n",
      "[I 2023-10-10 21:40:59,286] Trial 5 finished with value: -936.7326186552388 and parameters: {'max_depth': 531, 'min_samples_split': 1272, 'min_samples_leaf': 24, 'max_features': 0.44600000000000006, 'max_leaf_nodes': 79}. Best is trial 4 with value: -920.9653929938853.\n",
      "[I 2023-10-10 21:41:00,097] Trial 6 finished with value: -1115.7021590591794 and parameters: {'max_depth': 767, 'min_samples_split': 5432, 'min_samples_leaf': 23, 'max_features': 0.265, 'max_leaf_nodes': 62}. Best is trial 4 with value: -920.9653929938853.\n",
      "[I 2023-10-10 21:41:01,088] Trial 7 finished with value: -981.4304229154689 and parameters: {'max_depth': 226, 'min_samples_split': 4184, 'min_samples_leaf': 20, 'max_features': 0.63, 'max_leaf_nodes': 573}. Best is trial 4 with value: -920.9653929938853.\n",
      "[I 2023-10-10 21:41:02,181] Trial 8 finished with value: -974.817703209698 and parameters: {'max_depth': 241, 'min_samples_split': 5260, 'min_samples_leaf': 20, 'max_features': 0.709, 'max_leaf_nodes': 149}. Best is trial 4 with value: -920.9653929938853.\n",
      "[I 2023-10-10 21:41:02,668] Trial 9 finished with value: -1040.493234125849 and parameters: {'max_depth': 741, 'min_samples_split': 8930, 'min_samples_leaf': 25, 'max_features': 0.633, 'max_leaf_nodes': 318}. Best is trial 4 with value: -920.9653929938853.\n",
      "[I 2023-10-10 21:41:05,536] Trial 10 finished with value: -908.1510342689947 and parameters: {'max_depth': 49, 'min_samples_split': 489, 'min_samples_leaf': 30, 'max_features': 0.991, 'max_leaf_nodes': 368}. Best is trial 10 with value: -908.1510342689947.\n",
      "[I 2023-10-10 21:41:09,060] Trial 11 finished with value: -945.2741221843589 and parameters: {'max_depth': 13, 'min_samples_split': 47, 'min_samples_leaf': 30, 'max_features': 0.918, 'max_leaf_nodes': 380}. Best is trial 10 with value: -908.1510342689947.\n",
      "[I 2023-10-10 21:41:10,892] Trial 12 finished with value: -969.1140987946407 and parameters: {'max_depth': 61, 'min_samples_split': 2007, 'min_samples_leaf': 30, 'max_features': 0.986, 'max_leaf_nodes': 465}. Best is trial 10 with value: -908.1510342689947.\n",
      "[I 2023-10-10 21:41:12,838] Trial 13 finished with value: -938.6426491142711 and parameters: {'max_depth': 366, 'min_samples_split': 88, 'min_samples_leaf': 15, 'max_features': 0.42400000000000004, 'max_leaf_nodes': 312}. Best is trial 10 with value: -908.1510342689947.\n",
      "[I 2023-10-10 21:41:14,316] Trial 14 finished with value: -971.5316801804211 and parameters: {'max_depth': 95, 'min_samples_split': 2509, 'min_samples_leaf': 28, 'max_features': 0.815, 'max_leaf_nodes': 796}. Best is trial 10 with value: -908.1510342689947.\n",
      "[I 2023-10-10 21:41:14,854] Trial 15 finished with value: -1007.4736063253855 and parameters: {'max_depth': 364, 'min_samples_split': 6969, 'min_samples_leaf': 16, 'max_features': 0.39, 'max_leaf_nodes': 260}. Best is trial 10 with value: -908.1510342689947.\n",
      "[I 2023-10-10 21:41:16,374] Trial 16 finished with value: -969.9131702070938 and parameters: {'max_depth': 160, 'min_samples_split': 2792, 'min_samples_leaf': 27, 'max_features': 0.829, 'max_leaf_nodes': 443}. Best is trial 10 with value: -908.1510342689947.\n",
      "[I 2023-10-10 21:41:17,237] Trial 17 finished with value: -934.8200584369903 and parameters: {'max_depth': 482, 'min_samples_split': 1152, 'min_samples_leaf': 28, 'max_features': 0.325, 'max_leaf_nodes': 549}. Best is trial 10 with value: -908.1510342689947.\n",
      "[I 2023-10-10 21:41:17,878] Trial 18 finished with value: -1003.4122445662275 and parameters: {'max_depth': 16, 'min_samples_split': 6666, 'min_samples_leaf': 17, 'max_features': 0.543, 'max_leaf_nodes': 381}. Best is trial 10 with value: -908.1510342689947.\n",
      "[I 2023-10-10 21:41:18,323] Trial 19 finished with value: -962.4049918165917 and parameters: {'max_depth': 650, 'min_samples_split': 1467, 'min_samples_leaf': 23, 'max_features': 0.10700000000000001, 'max_leaf_nodes': 212}. Best is trial 10 with value: -908.1510342689947.\n",
      "[I 2023-10-10 21:41:19,669] Trial 20 finished with value: -972.3510192912725 and parameters: {'max_depth': 342, 'min_samples_split': 3274, 'min_samples_leaf': 12, 'max_features': 0.789, 'max_leaf_nodes': 630}. Best is trial 10 with value: -908.1510342689947.\n",
      "[I 2023-10-10 21:41:20,544] Trial 21 finished with value: -930.5792768333251 and parameters: {'max_depth': 541, 'min_samples_split': 1009, 'min_samples_leaf': 28, 'max_features': 0.317, 'max_leaf_nodes': 539}. Best is trial 10 with value: -908.1510342689947.\n",
      "[I 2023-10-10 21:41:21,579] Trial 22 finished with value: -911.7705048922116 and parameters: {'max_depth': 629, 'min_samples_split': 485, 'min_samples_leaf': 30, 'max_features': 0.316, 'max_leaf_nodes': 496}. Best is trial 10 with value: -908.1510342689947.\n",
      "[I 2023-10-10 21:41:22,546] Trial 23 finished with value: -939.5478471007525 and parameters: {'max_depth': 645, 'min_samples_split': 26, 'min_samples_leaf': 30, 'max_features': 0.186, 'max_leaf_nodes': 410}. Best is trial 10 with value: -908.1510342689947.\n",
      "[I 2023-10-10 21:41:23,509] Trial 24 finished with value: -980.4472696177434 and parameters: {'max_depth': 442, 'min_samples_split': 2082, 'min_samples_leaf': 26, 'max_features': 0.481, 'max_leaf_nodes': 353}. Best is trial 10 with value: -908.1510342689947.\n",
      "[I 2023-10-10 21:41:24,657] Trial 25 finished with value: -908.9905799778899 and parameters: {'max_depth': 696, 'min_samples_split': 652, 'min_samples_leaf': 29, 'max_features': 0.355, 'max_leaf_nodes': 494}. Best is trial 10 with value: -908.1510342689947.\n",
      "[I 2023-10-10 21:41:25,500] Trial 26 finished with value: -973.131686252588 and parameters: {'max_depth': 688, 'min_samples_split': 1720, 'min_samples_leaf': 29, 'max_features': 0.355, 'max_leaf_nodes': 438}. Best is trial 10 with value: -908.1510342689947.\n",
      "[I 2023-10-10 21:41:25,765] Trial 27 finished with value: -1240.2885205426971 and parameters: {'max_depth': 617, 'min_samples_split': 9824, 'min_samples_leaf': 27, 'max_features': 0.471, 'max_leaf_nodes': 598}. Best is trial 10 with value: -908.1510342689947.\n",
      "[I 2023-10-10 21:41:26,326] Trial 28 finished with value: -993.8989451039303 and parameters: {'max_depth': 800, 'min_samples_split': 2902, 'min_samples_leaf': 30, 'max_features': 0.28, 'max_leaf_nodes': 694}. Best is trial 10 with value: -908.1510342689947.\n",
      "[I 2023-10-10 21:41:26,793] Trial 29 finished with value: -1024.847613531705 and parameters: {'max_depth': 596, 'min_samples_split': 3581, 'min_samples_leaf': 18, 'max_features': 0.153, 'max_leaf_nodes': 282}. Best is trial 10 with value: -908.1510342689947.\n",
      "[I 2023-10-10 21:41:28,650] Trial 30 finished with value: -916.1317504435185 and parameters: {'max_depth': 724, 'min_samples_split': 582, 'min_samples_leaf': 28, 'max_features': 0.62, 'max_leaf_nodes': 775}. Best is trial 10 with value: -908.1510342689947.\n",
      "[I 2023-10-10 21:41:30,518] Trial 31 finished with value: -912.9376866675148 and parameters: {'max_depth': 717, 'min_samples_split': 710, 'min_samples_leaf': 29, 'max_features': 0.6869999999999999, 'max_leaf_nodes': 751}. Best is trial 10 with value: -908.1510342689947.\n",
      "[I 2023-10-10 21:41:33,094] Trial 32 finished with value: -907.2025295109084 and parameters: {'max_depth': 693, 'min_samples_split': 659, 'min_samples_leaf': 29, 'max_features': 0.911, 'max_leaf_nodes': 723}. Best is trial 32 with value: -907.2025295109084.\n",
      "[I 2023-10-10 21:41:34,923] Trial 33 finished with value: -969.128654180575 and parameters: {'max_depth': 578, 'min_samples_split': 2114, 'min_samples_leaf': 26, 'max_features': 0.98, 'max_leaf_nodes': 699}. Best is trial 32 with value: -907.2025295109084.\n",
      "[I 2023-10-10 21:41:37,420] Trial 34 finished with value: -910.1149375738305 and parameters: {'max_depth': 677, 'min_samples_split': 687, 'min_samples_leaf': 29, 'max_features': 0.912, 'max_leaf_nodes': 497}. Best is trial 32 with value: -907.2025295109084.\n",
      "[I 2023-10-10 21:41:39,279] Trial 35 finished with value: -946.9028388499244 and parameters: {'max_depth': 681, 'min_samples_split': 1434, 'min_samples_leaf': 27, 'max_features': 0.899, 'max_leaf_nodes': 678}. Best is trial 32 with value: -907.2025295109084.\n",
      "[I 2023-10-10 21:41:41,550] Trial 36 finished with value: -913.0191339151863 and parameters: {'max_depth': 491, 'min_samples_split': 852, 'min_samples_leaf': 25, 'max_features': 0.886, 'max_leaf_nodes': 600}. Best is trial 32 with value: -907.2025295109084.\n",
      "[I 2023-10-10 21:41:42,953] Trial 37 finished with value: -974.0268406701668 and parameters: {'max_depth': 797, 'min_samples_split': 4742, 'min_samples_leaf': 22, 'max_features': 0.928, 'max_leaf_nodes': 478}. Best is trial 32 with value: -907.2025295109084.\n",
      "[I 2023-10-10 21:41:44,479] Trial 38 finished with value: -972.5494947681391 and parameters: {'max_depth': 311, 'min_samples_split': 2453, 'min_samples_leaf': 29, 'max_features': 0.858, 'max_leaf_nodes': 732}. Best is trial 32 with value: -907.2025295109084.\n",
      "[I 2023-10-10 21:41:46,126] Trial 39 finished with value: -953.0437608796265 and parameters: {'max_depth': 410, 'min_samples_split': 1638, 'min_samples_leaf': 25, 'max_features': 0.759, 'max_leaf_nodes': 535}. Best is trial 32 with value: -907.2025295109084.\n",
      "[I 2023-10-10 21:41:47,086] Trial 40 finished with value: -1003.4122445662275 and parameters: {'max_depth': 675, 'min_samples_split': 6704, 'min_samples_leaf': 10, 'max_features': 0.952, 'max_leaf_nodes': 637}. Best is trial 32 with value: -907.2025295109084.\n",
      "[I 2023-10-10 21:41:49,648] Trial 41 finished with value: -906.6602334455911 and parameters: {'max_depth': 746, 'min_samples_split': 491, 'min_samples_leaf': 29, 'max_features': 0.853, 'max_leaf_nodes': 500}. Best is trial 41 with value: -906.6602334455911.\n",
      "[I 2023-10-10 21:41:52,288] Trial 42 finished with value: -907.71958310365 and parameters: {'max_depth': 748, 'min_samples_split': 489, 'min_samples_leaf': 29, 'max_features': 0.862, 'max_leaf_nodes': 433}. Best is trial 41 with value: -906.6602334455911.\n",
      "[I 2023-10-10 21:41:54,605] Trial 43 finished with value: -924.926108120799 and parameters: {'max_depth': 767, 'min_samples_split': 1057, 'min_samples_leaf': 27, 'max_features': 0.997, 'max_leaf_nodes': 421}. Best is trial 41 with value: -906.6602334455911.\n",
      "[I 2023-10-10 21:41:57,518] Trial 44 finished with value: -903.2977428090999 and parameters: {'max_depth': 753, 'min_samples_split': 336, 'min_samples_leaf': 29, 'max_features': 0.863, 'max_leaf_nodes': 350}. Best is trial 44 with value: -903.2977428090999.\n",
      "[I 2023-10-10 21:42:00,089] Trial 45 finished with value: -902.942130027347 and parameters: {'max_depth': 750, 'min_samples_split': 301, 'min_samples_leaf': 24, 'max_features': 0.757, 'max_leaf_nodes': 344}. Best is trial 45 with value: -902.942130027347.\n",
      "[I 2023-10-10 21:42:02,954] Trial 46 finished with value: -945.8903695210998 and parameters: {'max_depth': 765, 'min_samples_split': 37, 'min_samples_leaf': 24, 'max_features': 0.751, 'max_leaf_nodes': 138}. Best is trial 45 with value: -902.942130027347.\n",
      "[I 2023-10-10 21:42:04,621] Trial 47 finished with value: -971.5860883259174 and parameters: {'max_depth': 740, 'min_samples_split': 1830, 'min_samples_leaf': 21, 'max_features': 0.858, 'max_leaf_nodes': 215}. Best is trial 45 with value: -902.942130027347.\n",
      "[I 2023-10-10 21:42:06,927] Trial 48 finished with value: -900.834762033873 and parameters: {'max_depth': 762, 'min_samples_split': 360, 'min_samples_leaf': 26, 'max_features': 0.7, 'max_leaf_nodes': 333}. Best is trial 48 with value: -900.834762033873.\n",
      "[I 2023-10-10 21:42:08,559] Trial 49 finished with value: -934.0761605750147 and parameters: {'max_depth': 780, 'min_samples_split': 1250, 'min_samples_leaf': 26, 'max_features': 0.712, 'max_leaf_nodes': 336}. Best is trial 48 with value: -900.834762033873.\n",
      "[I 2023-10-10 21:42:09,396] Trial 50 finished with value: -1026.280878514946 and parameters: {'max_depth': 721, 'min_samples_split': 7704, 'min_samples_leaf': 23, 'max_features': 0.8069999999999999, 'max_leaf_nodes': 268}. Best is trial 48 with value: -900.834762033873.\n",
      "[I 2023-10-10 21:42:12,098] Trial 51 finished with value: -899.6653232372731 and parameters: {'max_depth': 752, 'min_samples_split': 366, 'min_samples_leaf': 28, 'max_features': 0.853, 'max_leaf_nodes': 321}. Best is trial 51 with value: -899.6653232372731.\n",
      "[I 2023-10-10 21:42:14,548] Trial 52 finished with value: -900.4386789960538 and parameters: {'max_depth': 711, 'min_samples_split': 361, 'min_samples_leaf': 28, 'max_features': 0.765, 'max_leaf_nodes': 301}. Best is trial 51 with value: -899.6653232372731.\n",
      "[I 2023-10-10 21:42:16,886] Trial 53 finished with value: -904.1632965918867 and parameters: {'max_depth': 754, 'min_samples_split': 309, 'min_samples_leaf': 25, 'max_features': 0.663, 'max_leaf_nodes': 305}. Best is trial 51 with value: -899.6653232372731.\n",
      "[I 2023-10-10 21:42:19,423] Trial 54 finished with value: -911.7637461248447 and parameters: {'max_depth': 777, 'min_samples_split': 164, 'min_samples_leaf': 24, 'max_features': 0.668, 'max_leaf_nodes': 308}. Best is trial 51 with value: -899.6653232372731.\n",
      "[I 2023-10-10 21:42:20,892] Trial 55 finished with value: -931.1176876001515 and parameters: {'max_depth': 657, 'min_samples_split': 1153, 'min_samples_leaf': 26, 'max_features': 0.591, 'max_leaf_nodes': 228}. Best is trial 51 with value: -899.6653232372731.\n",
      "[I 2023-10-10 21:42:21,904] Trial 56 finished with value: -981.4779646162466 and parameters: {'max_depth': 717, 'min_samples_split': 5952, 'min_samples_leaf': 25, 'max_features': 0.751, 'max_leaf_nodes': 386}. Best is trial 51 with value: -899.6653232372731.\n",
      "[I 2023-10-10 21:42:24,464] Trial 57 finished with value: -912.1963182522616 and parameters: {'max_depth': 602, 'min_samples_split': 189, 'min_samples_leaf': 27, 'max_features': 0.707, 'max_leaf_nodes': 297}. Best is trial 51 with value: -899.6653232372731.\n",
      "[I 2023-10-10 21:42:26,357] Trial 58 finished with value: -922.3403103307353 and parameters: {'max_depth': 566, 'min_samples_split': 1021, 'min_samples_leaf': 24, 'max_features': 0.78, 'max_leaf_nodes': 336}. Best is trial 51 with value: -899.6653232372731.\n",
      "[I 2023-10-10 21:42:27,624] Trial 59 finished with value: -976.7438640536991 and parameters: {'max_depth': 761, 'min_samples_split': 2467, 'min_samples_leaf': 19, 'max_features': 0.658, 'max_leaf_nodes': 242}. Best is trial 51 with value: -899.6653232372731.\n",
      "[I 2023-10-10 21:42:28,932] Trial 60 finished with value: -944.4683690881611 and parameters: {'max_depth': 795, 'min_samples_split': 1394, 'min_samples_leaf': 28, 'max_features': 0.5650000000000001, 'max_leaf_nodes': 179}. Best is trial 51 with value: -899.6653232372731.\n",
      "[I 2023-10-10 21:42:31,683] Trial 61 finished with value: -900.3858169334619 and parameters: {'max_depth': 747, 'min_samples_split': 342, 'min_samples_leaf': 28, 'max_features': 0.836, 'max_leaf_nodes': 356}. Best is trial 51 with value: -899.6653232372731.\n",
      "[I 2023-10-10 21:42:34,692] Trial 62 finished with value: -904.2498068684963 and parameters: {'max_depth': 720, 'min_samples_split': 220, 'min_samples_leaf': 28, 'max_features': 0.826, 'max_leaf_nodes': 363}. Best is trial 51 with value: -899.6653232372731.\n",
      "[I 2023-10-10 21:42:36,687] Trial 63 finished with value: -916.4404860533969 and parameters: {'max_depth': 644, 'min_samples_split': 879, 'min_samples_leaf': 22, 'max_features': 0.735, 'max_leaf_nodes': 340}. Best is trial 51 with value: -899.6653232372731.\n",
      "[I 2023-10-10 21:42:37,913] Trial 64 finished with value: -973.6890244754413 and parameters: {'max_depth': 701, 'min_samples_split': 4178, 'min_samples_leaf': 26, 'max_features': 0.783, 'max_leaf_nodes': 398}. Best is trial 51 with value: -899.6653232372731.\n",
      "[I 2023-10-10 21:42:40,435] Trial 65 finished with value: -904.7481755502165 and parameters: {'max_depth': 746, 'min_samples_split': 428, 'min_samples_leaf': 27, 'max_features': 0.8069999999999999, 'max_leaf_nodes': 287}. Best is trial 51 with value: -899.6653232372731.\n",
      "[I 2023-10-10 21:42:42,679] Trial 66 finished with value: -902.0624615747969 and parameters: {'max_depth': 773, 'min_samples_split': 309, 'min_samples_leaf': 25, 'max_features': 0.623, 'max_leaf_nodes': 326}. Best is trial 51 with value: -899.6653232372731.\n",
      "[I 2023-10-10 21:42:44,239] Trial 67 finished with value: -947.1022043367897 and parameters: {'max_depth': 658, 'min_samples_split': 1592, 'min_samples_leaf': 28, 'max_features': 0.73, 'max_leaf_nodes': 246}. Best is trial 51 with value: -899.6653232372731.\n",
      "[I 2023-10-10 21:42:45,962] Trial 68 finished with value: -914.432619484983 and parameters: {'max_depth': 783, 'min_samples_split': 850, 'min_samples_leaf': 27, 'max_features': 0.63, 'max_leaf_nodes': 366}. Best is trial 51 with value: -899.6653232372731.\n",
      "[I 2023-10-10 21:42:47,101] Trial 69 finished with value: -969.8407844478008 and parameters: {'max_depth': 711, 'min_samples_split': 1944, 'min_samples_leaf': 23, 'max_features': 0.525, 'max_leaf_nodes': 186}. Best is trial 51 with value: -899.6653232372731.\n",
      "[I 2023-10-10 21:42:48,654] Trial 70 finished with value: -936.5972637577722 and parameters: {'max_depth': 737, 'min_samples_split': 1258, 'min_samples_leaf': 30, 'max_features': 0.693, 'max_leaf_nodes': 327}. Best is trial 51 with value: -899.6653232372731.\n",
      "[I 2023-10-10 21:42:50,927] Trial 71 finished with value: -904.637948089265 and parameters: {'max_depth': 760, 'min_samples_split': 303, 'min_samples_leaf': 25, 'max_features': 0.65, 'max_leaf_nodes': 311}. Best is trial 51 with value: -899.6653232372731.\n",
      "[I 2023-10-10 21:42:52,844] Trial 72 finished with value: -905.4052881136562 and parameters: {'max_depth': 798, 'min_samples_split': 392, 'min_samples_leaf': 26, 'max_features': 0.582, 'max_leaf_nodes': 274}. Best is trial 51 with value: -899.6653232372731.\n",
      "[I 2023-10-10 21:42:54,509] Trial 73 finished with value: -914.6519649261325 and parameters: {'max_depth': 699, 'min_samples_split': 767, 'min_samples_leaf': 25, 'max_features': 0.607, 'max_leaf_nodes': 459}. Best is trial 51 with value: -899.6653232372731.\n",
      "[I 2023-10-10 21:42:57,236] Trial 74 finished with value: -902.663395086948 and parameters: {'max_depth': 669, 'min_samples_split': 322, 'min_samples_leaf': 28, 'max_features': 0.772, 'max_leaf_nodes': 404}. Best is trial 51 with value: -899.6653232372731.\n",
      "[I 2023-10-10 21:43:00,408] Trial 75 finished with value: -948.3927586886596 and parameters: {'max_depth': 623, 'min_samples_split': 58, 'min_samples_leaf': 28, 'max_features': 0.779, 'max_leaf_nodes': 389}. Best is trial 51 with value: -899.6653232372731.\n",
      "[I 2023-10-10 21:43:02,580] Trial 76 finished with value: -919.1574504563281 and parameters: {'max_depth': 666, 'min_samples_split': 923, 'min_samples_leaf': 27, 'max_features': 0.876, 'max_leaf_nodes': 350}. Best is trial 51 with value: -899.6653232372731.\n",
      "[I 2023-10-10 21:43:04,161] Trial 77 finished with value: -971.623298235813 and parameters: {'max_depth': 220, 'min_samples_split': 2212, 'min_samples_leaf': 28, 'max_features': 0.835, 'max_leaf_nodes': 413}. Best is trial 51 with value: -899.6653232372731.\n",
      "[I 2023-10-10 21:43:06,918] Trial 78 finished with value: -908.6215834730631 and parameters: {'max_depth': 734, 'min_samples_split': 594, 'min_samples_leaf': 30, 'max_features': 0.94, 'max_leaf_nodes': 356}. Best is trial 51 with value: -899.6653232372731.\n",
      "[I 2023-10-10 21:43:08,764] Trial 79 finished with value: -941.3478224062603 and parameters: {'max_depth': 685, 'min_samples_split': 1402, 'min_samples_leaf': 27, 'max_features': 0.837, 'max_leaf_nodes': 375}. Best is trial 51 with value: -899.6653232372731.\n",
      "[I 2023-10-10 21:43:10,651] Trial 80 finished with value: -921.5385005966804 and parameters: {'max_depth': 777, 'min_samples_split': 1017, 'min_samples_leaf': 29, 'max_features': 0.73, 'max_leaf_nodes': 451}. Best is trial 51 with value: -899.6653232372731.\n",
      "[I 2023-10-10 21:43:13,254] Trial 81 finished with value: -901.4765335932923 and parameters: {'max_depth': 756, 'min_samples_split': 313, 'min_samples_leaf': 26, 'max_features': 0.763, 'max_leaf_nodes': 316}. Best is trial 51 with value: -899.6653232372731.\n",
      "[I 2023-10-10 21:43:16,429] Trial 82 finished with value: -957.4134223736934 and parameters: {'max_depth': 733, 'min_samples_split': 41, 'min_samples_leaf': 26, 'max_features': 0.76, 'max_leaf_nodes': 323}. Best is trial 51 with value: -899.6653232372731.\n",
      "[I 2023-10-10 21:43:18,934] Trial 83 finished with value: -902.5170946635383 and parameters: {'max_depth': 705, 'min_samples_split': 386, 'min_samples_leaf': 28, 'max_features': 0.8049999999999999, 'max_leaf_nodes': 263}. Best is trial 51 with value: -899.6653232372731.\n",
      "[I 2023-10-10 21:43:21,387] Trial 84 finished with value: -910.4384835852288 and parameters: {'max_depth': 517, 'min_samples_split': 585, 'min_samples_leaf': 14, 'max_features': 0.799, 'max_leaf_nodes': 289}. Best is trial 51 with value: -899.6653232372731.\n",
      "[I 2023-10-10 21:43:23,396] Trial 85 finished with value: -914.8651699037518 and parameters: {'max_depth': 705, 'min_samples_split': 739, 'min_samples_leaf': 28, 'max_features': 0.693, 'max_leaf_nodes': 272}. Best is trial 51 with value: -899.6653232372731.\n",
      "[I 2023-10-10 21:43:25,924] Trial 86 finished with value: -902.9775166164691 and parameters: {'max_depth': 630, 'min_samples_split': 393, 'min_samples_leaf': 26, 'max_features': 0.766, 'max_leaf_nodes': 255}. Best is trial 51 with value: -899.6653232372731.\n",
      "[I 2023-10-10 21:43:27,641] Trial 87 finished with value: -934.9716215562503 and parameters: {'max_depth': 780, 'min_samples_split': 1244, 'min_samples_leaf': 24, 'max_features': 0.72, 'max_leaf_nodes': 403}. Best is trial 51 with value: -899.6653232372731.\n",
      "[I 2023-10-10 21:43:29,346] Trial 88 finished with value: -952.2788411292665 and parameters: {'max_depth': 681, 'min_samples_split': 1620, 'min_samples_leaf': 27, 'max_features': 0.815, 'max_leaf_nodes': 195}. Best is trial 51 with value: -899.6653232372731.\n",
      "[I 2023-10-10 21:43:31,203] Trial 89 finished with value: -918.9754992237404 and parameters: {'max_depth': 159, 'min_samples_split': 773, 'min_samples_leaf': 11, 'max_features': 0.6779999999999999, 'max_leaf_nodes': 158}. Best is trial 51 with value: -899.6653232372731.\n",
      "[I 2023-10-10 21:43:34,439] Trial 90 finished with value: -906.206508350587 and parameters: {'max_depth': 714, 'min_samples_split': 229, 'min_samples_leaf': 25, 'max_features': 0.898, 'max_leaf_nodes': 320}. Best is trial 51 with value: -899.6653232372731.\n",
      "[I 2023-10-10 21:43:36,914] Trial 91 finished with value: -905.1747526857686 and parameters: {'max_depth': 635, 'min_samples_split': 419, 'min_samples_leaf': 26, 'max_features': 0.766, 'max_leaf_nodes': 249}. Best is trial 51 with value: -899.6653232372731.\n",
      "[I 2023-10-10 21:43:39,189] Trial 92 finished with value: -910.859000195362 and parameters: {'max_depth': 667, 'min_samples_split': 528, 'min_samples_leaf': 26, 'max_features': 0.743, 'max_leaf_nodes': 105}. Best is trial 51 with value: -899.6653232372731.\n",
      "[I 2023-10-10 21:43:42,659] Trial 93 finished with value: -949.4603770729993 and parameters: {'max_depth': 730, 'min_samples_split': 29, 'min_samples_leaf': 28, 'max_features': 0.835, 'max_leaf_nodes': 232}. Best is trial 51 with value: -899.6653232372731.\n",
      "[I 2023-10-10 21:43:44,508] Trial 94 finished with value: -928.3603359802088 and parameters: {'max_depth': 605, 'min_samples_split': 1019, 'min_samples_leaf': 24, 'max_features': 0.79, 'max_leaf_nodes': 294}. Best is trial 51 with value: -899.6653232372731.\n",
      "[I 2023-10-10 21:43:47,077] Trial 95 finished with value: -899.886351210107 and parameters: {'max_depth': 764, 'min_samples_split': 294, 'min_samples_leaf': 27, 'max_features': 0.771, 'max_leaf_nodes': 258}. Best is trial 51 with value: -899.6653232372731.\n",
      "[I 2023-10-10 21:43:49,087] Trial 96 finished with value: -915.1543829500573 and parameters: {'max_depth': 767, 'min_samples_split': 663, 'min_samples_leaf': 27, 'max_features': 0.699, 'max_leaf_nodes': 208}. Best is trial 51 with value: -899.6653232372731.\n",
      "[I 2023-10-10 21:43:50,168] Trial 97 finished with value: -981.8359121926748 and parameters: {'max_depth': 749, 'min_samples_split': 5837, 'min_samples_leaf': 28, 'max_features': 0.798, 'max_leaf_nodes': 422}. Best is trial 51 with value: -899.6653232372731.\n",
      "[I 2023-10-10 21:43:52,434] Trial 98 finished with value: -903.77022220387 and parameters: {'max_depth': 800, 'min_samples_split': 268, 'min_samples_leaf': 29, 'max_features': 0.649, 'max_leaf_nodes': 374}. Best is trial 51 with value: -899.6653232372731.\n",
      "[I 2023-10-10 21:43:54,534] Trial 99 finished with value: -927.6082723932202 and parameters: {'max_depth': 696, 'min_samples_split': 1155, 'min_samples_leaf': 27, 'max_features': 0.844, 'max_leaf_nodes': 336}. Best is trial 51 with value: -899.6653232372731.\n",
      "[I 2023-10-10 21:43:54,826] Trial 100 finished with value: -1240.2885205426971 and parameters: {'max_depth': 770, 'min_samples_split': 9281, 'min_samples_leaf': 25, 'max_features': 0.879, 'max_leaf_nodes': 308}. Best is trial 51 with value: -899.6653232372731.\n",
      "[I 2023-10-10 21:43:57,358] Trial 101 finished with value: -901.5433589856624 and parameters: {'max_depth': 730, 'min_samples_split': 363, 'min_samples_leaf': 26, 'max_features': 0.775, 'max_leaf_nodes': 256}. Best is trial 51 with value: -899.6653232372731.\n",
      "[I 2023-10-10 21:43:59,349] Trial 102 finished with value: -917.8244817055198 and parameters: {'max_depth': 737, 'min_samples_split': 854, 'min_samples_leaf': 27, 'max_features': 0.715, 'max_leaf_nodes': 262}. Best is trial 51 with value: -899.6653232372731.\n",
      "[I 2023-10-10 21:44:02,060] Trial 103 finished with value: -905.3722833340491 and parameters: {'max_depth': 783, 'min_samples_split': 217, 'min_samples_leaf': 26, 'max_features': 0.775, 'max_leaf_nodes': 276}. Best is trial 51 with value: -899.6653232372731.\n",
      "[I 2023-10-10 21:44:04,477] Trial 104 finished with value: -909.5100499208775 and parameters: {'max_depth': 279, 'min_samples_split': 533, 'min_samples_leaf': 28, 'max_features': 0.814, 'max_leaf_nodes': 217}. Best is trial 51 with value: -899.6653232372731.\n",
      "[I 2023-10-10 21:44:05,050] Trial 105 finished with value: -1040.493234125849 and parameters: {'max_depth': 756, 'min_samples_split': 8193, 'min_samples_leaf': 29, 'max_features': 0.741, 'max_leaf_nodes': 347}. Best is trial 51 with value: -899.6653232372731.\n",
      "[I 2023-10-10 21:44:07,710] Trial 106 finished with value: -901.3534790260513 and parameters: {'max_depth': 729, 'min_samples_split': 340, 'min_samples_leaf': 26, 'max_features': 0.787, 'max_leaf_nodes': 321}. Best is trial 51 with value: -899.6653232372731.\n",
      "[I 2023-10-10 21:44:10,087] Trial 107 finished with value: -912.12799565619 and parameters: {'max_depth': 725, 'min_samples_split': 701, 'min_samples_leaf': 27, 'max_features': 0.821, 'max_leaf_nodes': 291}. Best is trial 51 with value: -899.6653232372731.\n",
      "[I 2023-10-10 21:44:11,886] Trial 108 finished with value: -942.0525762888774 and parameters: {'max_depth': 710, 'min_samples_split': 1405, 'min_samples_leaf': 28, 'max_features': 0.786, 'max_leaf_nodes': 322}. Best is trial 51 with value: -899.6653232372731.\n",
      "[I 2023-10-10 21:44:14,015] Trial 109 finished with value: -921.6099012859679 and parameters: {'max_depth': 688, 'min_samples_split': 992, 'min_samples_leaf': 26, 'max_features': 0.865, 'max_leaf_nodes': 241}. Best is trial 51 with value: -899.6653232372731.\n",
      "[I 2023-10-10 21:44:16,494] Trial 110 finished with value: -905.0685207161881 and parameters: {'max_depth': 789, 'min_samples_split': 448, 'min_samples_leaf': 28, 'max_features': 0.797, 'max_leaf_nodes': 303}. Best is trial 51 with value: -899.6653232372731.\n",
      "[I 2023-10-10 21:44:19,156] Trial 111 finished with value: -908.0634191876379 and parameters: {'max_depth': 750, 'min_samples_split': 199, 'min_samples_leaf': 26, 'max_features': 0.753, 'max_leaf_nodes': 389}. Best is trial 51 with value: -899.6653232372731.\n",
      "[I 2023-10-10 21:44:21,664] Trial 112 finished with value: -907.3946048665175 and parameters: {'max_depth': 725, 'min_samples_split': 327, 'min_samples_leaf': 25, 'max_features': 0.726, 'max_leaf_nodes': 368}. Best is trial 51 with value: -899.6653232372731.\n",
      "[I 2023-10-10 21:44:24,933] Trial 113 finished with value: -957.2562981517918 and parameters: {'max_depth': 765, 'min_samples_split': 21, 'min_samples_leaf': 25, 'max_features': 0.769, 'max_leaf_nodes': 332}. Best is trial 51 with value: -899.6653232372731.\n",
      "[I 2023-10-10 21:44:27,342] Trial 114 finished with value: -910.8904390457016 and parameters: {'max_depth': 705, 'min_samples_split': 585, 'min_samples_leaf': 27, 'max_features': 0.822, 'max_leaf_nodes': 283}. Best is trial 51 with value: -899.6653232372731.\n",
      "[I 2023-10-10 21:44:29,234] Trial 115 finished with value: -918.3967601110147 and parameters: {'max_depth': 743, 'min_samples_split': 804, 'min_samples_leaf': 29, 'max_features': 0.6769999999999999, 'max_leaf_nodes': 263}. Best is trial 51 with value: -899.6653232372731.\n",
      "[I 2023-10-10 21:44:31,463] Trial 116 finished with value: -896.9219377138264 and parameters: {'max_depth': 671, 'min_samples_split': 341, 'min_samples_leaf': 23, 'max_features': 0.741, 'max_leaf_nodes': 30}. Best is trial 116 with value: -896.9219377138264.\n",
      "[I 2023-10-10 21:44:33,043] Trial 117 finished with value: -934.5226559052302 and parameters: {'max_depth': 649, 'min_samples_split': 1133, 'min_samples_leaf': 22, 'max_features': 0.715, 'max_leaf_nodes': 10}. Best is trial 116 with value: -896.9219377138264.\n",
      "[I 2023-10-10 21:44:35,704] Trial 118 finished with value: -900.0586580806423 and parameters: {'max_depth': 672, 'min_samples_split': 442, 'min_samples_leaf': 21, 'max_features': 0.852, 'max_leaf_nodes': 132}. Best is trial 116 with value: -896.9219377138264.\n",
      "[I 2023-10-10 21:44:38,004] Trial 119 finished with value: -916.8578123362029 and parameters: {'max_depth': 687, 'min_samples_split': 916, 'min_samples_leaf': 21, 'max_features': 0.908, 'max_leaf_nodes': 76}. Best is trial 116 with value: -896.9219377138264.\n",
      "[I 2023-10-10 21:44:40,503] Trial 120 finished with value: -909.2924121433031 and parameters: {'max_depth': 462, 'min_samples_split': 585, 'min_samples_leaf': 19, 'max_features': 0.847, 'max_leaf_nodes': 33}. Best is trial 116 with value: -896.9219377138264.\n",
      "[I 2023-10-10 21:44:43,155] Trial 121 finished with value: -902.2720268624469 and parameters: {'max_depth': 718, 'min_samples_split': 390, 'min_samples_leaf': 27, 'max_features': 0.799, 'max_leaf_nodes': 120}. Best is trial 116 with value: -896.9219377138264.\n",
      "[I 2023-10-10 21:44:46,333] Trial 122 finished with value: -917.4658491500235 and parameters: {'max_depth': 719, 'min_samples_split': 171, 'min_samples_leaf': 21, 'max_features': 0.802, 'max_leaf_nodes': 125}. Best is trial 116 with value: -896.9219377138264.\n",
      "[I 2023-10-10 21:44:48,764] Trial 123 finished with value: -903.7565239608402 and parameters: {'max_depth': 765, 'min_samples_split': 420, 'min_samples_leaf': 20, 'max_features': 0.742, 'max_leaf_nodes': 47}. Best is trial 116 with value: -896.9219377138264.\n",
      "[I 2023-10-10 21:44:51,282] Trial 124 finished with value: -914.9518155585358 and parameters: {'max_depth': 702, 'min_samples_split': 721, 'min_samples_leaf': 23, 'max_features': 0.89, 'max_leaf_nodes': 141}. Best is trial 116 with value: -896.9219377138264.\n",
      "[I 2023-10-10 21:44:52,689] Trial 125 finished with value: -970.5316111550098 and parameters: {'max_depth': 736, 'min_samples_split': 3216, 'min_samples_leaf': 24, 'max_features': 0.826, 'max_leaf_nodes': 161}. Best is trial 116 with value: -896.9219377138264.\n",
      "[I 2023-10-10 21:44:55,872] Trial 126 finished with value: -915.4310203846738 and parameters: {'max_depth': 777, 'min_samples_split': 170, 'min_samples_leaf': 22, 'max_features': 0.869, 'max_leaf_nodes': 88}. Best is trial 116 with value: -896.9219377138264.\n",
      "[I 2023-10-10 21:44:58,750] Trial 127 finished with value: -931.1479570668055 and parameters: {'max_depth': 672, 'min_samples_split': 26, 'min_samples_leaf': 26, 'max_features': 0.789, 'max_leaf_nodes': 110}. Best is trial 116 with value: -896.9219377138264.\n",
      "[I 2023-10-10 21:45:01,593] Trial 128 finished with value: -910.5327819345164 and parameters: {'max_depth': 725, 'min_samples_split': 498, 'min_samples_leaf': 27, 'max_features': 0.957, 'max_leaf_nodes': 198}. Best is trial 116 with value: -896.9219377138264.\n",
      "[I 2023-10-10 21:45:03,739] Trial 129 finished with value: -919.0825944924554 and parameters: {'max_depth': 758, 'min_samples_split': 907, 'min_samples_leaf': 25, 'max_features': 0.838, 'max_leaf_nodes': 69}. Best is trial 116 with value: -896.9219377138264.\n",
      "[I 2023-10-10 21:45:05,733] Trial 130 finished with value: -937.4225958234489 and parameters: {'max_depth': 586, 'min_samples_split': 1256, 'min_samples_leaf': 23, 'max_features': 0.8109999999999999, 'max_leaf_nodes': 227}. Best is trial 116 with value: -896.9219377138264.\n",
      "[I 2023-10-10 21:45:08,232] Trial 131 finished with value: -902.3558134039188 and parameters: {'max_depth': 673, 'min_samples_split': 366, 'min_samples_leaf': 28, 'max_features': 0.766, 'max_leaf_nodes': 307}. Best is trial 116 with value: -896.9219377138264.\n",
      "[I 2023-10-10 21:45:10,652] Trial 132 finished with value: -904.8337949927864 and parameters: {'max_depth': 648, 'min_samples_split': 368, 'min_samples_leaf': 27, 'max_features': 0.754, 'max_leaf_nodes': 307}. Best is trial 116 with value: -896.9219377138264.\n",
      "[I 2023-10-10 21:45:12,818] Trial 133 finished with value: -914.1936550323093 and parameters: {'max_depth': 687, 'min_samples_split': 663, 'min_samples_leaf': 28, 'max_features': 0.769, 'max_leaf_nodes': 323}. Best is trial 116 with value: -896.9219377138264.\n",
      "[I 2023-10-10 21:45:15,262] Trial 134 finished with value: -901.7944964627092 and parameters: {'max_depth': 708, 'min_samples_split': 308, 'min_samples_leaf': 27, 'max_features': 0.703, 'max_leaf_nodes': 358}. Best is trial 116 with value: -896.9219377138264.\n",
      "[I 2023-10-10 21:45:17,966] Trial 135 finished with value: -911.719854025514 and parameters: {'max_depth': 739, 'min_samples_split': 212, 'min_samples_leaf': 19, 'max_features': 0.73, 'max_leaf_nodes': 358}. Best is trial 116 with value: -896.9219377138264.\n",
      "[I 2023-10-10 21:45:19,515] Trial 136 finished with value: -908.661228722076 and parameters: {'max_depth': 673, 'min_samples_split': 530, 'min_samples_leaf': 26, 'max_features': 0.503, 'max_leaf_nodes': 55}. Best is trial 116 with value: -896.9219377138264.\n",
      "[I 2023-10-10 21:45:22,488] Trial 137 finished with value: -946.2655001930377 and parameters: {'max_depth': 391, 'min_samples_split': 38, 'min_samples_leaf': 27, 'max_features': 0.692, 'max_leaf_nodes': 341}. Best is trial 116 with value: -896.9219377138264.\n",
      "[I 2023-10-10 21:45:23,639] Trial 138 finished with value: -974.817703209698 and parameters: {'max_depth': 717, 'min_samples_split': 4008, 'min_samples_leaf': 26, 'max_features': 0.709, 'max_leaf_nodes': 312}. Best is trial 116 with value: -896.9219377138264.\n",
      "[I 2023-10-10 21:45:24,854] Trial 139 finished with value: -974.817703209698 and parameters: {'max_depth': 790, 'min_samples_split': 4956, 'min_samples_leaf': 27, 'max_features': 0.739, 'max_leaf_nodes': 295}. Best is trial 116 with value: -896.9219377138264.\n",
      "[I 2023-10-10 21:45:26,821] Trial 140 finished with value: -911.093360447661 and parameters: {'max_depth': 660, 'min_samples_split': 737, 'min_samples_leaf': 25, 'max_features': 0.67, 'max_leaf_nodes': 90}. Best is trial 116 with value: -896.9219377138264.\n",
      "[I 2023-10-10 21:45:29,526] Trial 141 finished with value: -900.895073970323 and parameters: {'max_depth': 701, 'min_samples_split': 340, 'min_samples_leaf': 28, 'max_features': 0.783, 'max_leaf_nodes': 275}. Best is trial 116 with value: -896.9219377138264.\n",
      "[I 2023-10-10 21:45:32,077] Trial 142 finished with value: -901.1263231574005 and parameters: {'max_depth': 696, 'min_samples_split': 344, 'min_samples_leaf': 27, 'max_features': 0.781, 'max_leaf_nodes': 278}. Best is trial 116 with value: -896.9219377138264.\n",
      "[I 2023-10-10 21:45:35,158] Trial 143 finished with value: -900.5944734809373 and parameters: {'max_depth': 697, 'min_samples_split': 262, 'min_samples_leaf': 27, 'max_features': 0.853, 'max_leaf_nodes': 282}. Best is trial 116 with value: -896.9219377138264.\n",
      "[I 2023-10-10 21:45:38,160] Trial 144 finished with value: -900.5284668002985 and parameters: {'max_depth': 698, 'min_samples_split': 229, 'min_samples_leaf': 26, 'max_features': 0.854, 'max_leaf_nodes': 278}. Best is trial 116 with value: -896.9219377138264.\n",
      "[I 2023-10-10 21:45:40,602] Trial 145 finished with value: -912.5197404825249 and parameters: {'max_depth': 698, 'min_samples_split': 586, 'min_samples_leaf': 18, 'max_features': 0.845, 'max_leaf_nodes': 279}. Best is trial 116 with value: -896.9219377138264.\n",
      "[I 2023-10-10 21:45:43,053] Trial 146 finished with value: -922.1361890114898 and parameters: {'max_depth': 691, 'min_samples_split': 1032, 'min_samples_leaf': 26, 'max_features': 0.931, 'max_leaf_nodes': 243}. Best is trial 116 with value: -896.9219377138264.\n",
      "[I 2023-10-10 21:45:46,183] Trial 147 finished with value: -906.1654258359447 and parameters: {'max_depth': 614, 'min_samples_split': 194, 'min_samples_leaf': 27, 'max_features': 0.886, 'max_leaf_nodes': 275}. Best is trial 116 with value: -896.9219377138264.\n",
      "[I 2023-10-10 21:45:49,731] Trial 148 finished with value: -952.4082326547868 and parameters: {'max_depth': 750, 'min_samples_split': 24, 'min_samples_leaf': 28, 'max_features': 0.852, 'max_leaf_nodes': 253}. Best is trial 116 with value: -896.9219377138264.\n",
      "[I 2023-10-10 21:45:51,858] Trial 149 finished with value: -912.9311243958822 and parameters: {'max_depth': 639, 'min_samples_split': 826, 'min_samples_leaf': 29, 'max_features': 0.783, 'max_leaf_nodes': 291}. Best is trial 116 with value: -896.9219377138264.\n",
      "[I 2023-10-10 21:45:54,441] Trial 150 finished with value: -914.0510149890536 and parameters: {'max_depth': 733, 'min_samples_split': 653, 'min_samples_leaf': 29, 'max_features': 0.868, 'max_leaf_nodes': 359}. Best is trial 116 with value: -896.9219377138264.\n",
      "[I 2023-10-10 21:45:57,219] Trial 151 finished with value: -905.0990201172001 and parameters: {'max_depth': 710, 'min_samples_split': 275, 'min_samples_leaf': 26, 'max_features': 0.823, 'max_leaf_nodes': 327}. Best is trial 116 with value: -896.9219377138264.\n",
      "[I 2023-10-10 21:45:59,244] Trial 152 finished with value: -908.0362879893606 and parameters: {'max_depth': 771, 'min_samples_split': 448, 'min_samples_leaf': 27, 'max_features': 0.62, 'max_leaf_nodes': 345}. Best is trial 116 with value: -896.9219377138264.\n",
      "[I 2023-10-10 21:46:01,777] Trial 153 finished with value: -903.0422243461962 and parameters: {'max_depth': 740, 'min_samples_split': 283, 'min_samples_leaf': 26, 'max_features': 0.753, 'max_leaf_nodes': 320}. Best is trial 116 with value: -896.9219377138264.\n",
      "[I 2023-10-10 21:46:04,074] Trial 154 finished with value: -916.5640319544906 and parameters: {'max_depth': 761, 'min_samples_split': 590, 'min_samples_leaf': 25, 'max_features': 0.787, 'max_leaf_nodes': 291}. Best is trial 116 with value: -896.9219377138264.\n",
      "[I 2023-10-10 21:46:06,925] Trial 155 finished with value: -908.9992869753054 and parameters: {'max_depth': 700, 'min_samples_split': 216, 'min_samples_leaf': 26, 'max_features': 0.815, 'max_leaf_nodes': 271}. Best is trial 116 with value: -896.9219377138264.\n",
      "[I 2023-10-10 21:46:09,161] Trial 156 finished with value: -916.7555531029295 and parameters: {'max_depth': 721, 'min_samples_split': 916, 'min_samples_leaf': 27, 'max_features': 0.853, 'max_leaf_nodes': 225}. Best is trial 116 with value: -896.9219377138264.\n",
      "[I 2023-10-10 21:46:11,237] Trial 157 finished with value: -905.90021922295 and parameters: {'max_depth': 747, 'min_samples_split': 458, 'min_samples_leaf': 24, 'max_features': 0.638, 'max_leaf_nodes': 371}. Best is trial 116 with value: -896.9219377138264.\n",
      "[I 2023-10-10 21:46:13,192] Trial 158 finished with value: -914.3288229400354 and parameters: {'max_depth': 776, 'min_samples_split': 764, 'min_samples_leaf': 27, 'max_features': 0.724, 'max_leaf_nodes': 261}. Best is trial 116 with value: -896.9219377138264.\n",
      "[I 2023-10-10 21:46:16,250] Trial 159 finished with value: -916.0287681469626 and parameters: {'max_depth': 660, 'min_samples_split': 170, 'min_samples_leaf': 28, 'max_features': 0.834, 'max_leaf_nodes': 334}. Best is trial 116 with value: -896.9219377138264.\n",
      "[I 2023-10-10 21:46:19,629] Trial 160 finished with value: -959.5934835823549 and parameters: {'max_depth': 695, 'min_samples_split': 38, 'min_samples_leaf': 26, 'max_features': 0.776, 'max_leaf_nodes': 302}. Best is trial 116 with value: -896.9219377138264.\n",
      "[I 2023-10-10 21:46:22,203] Trial 161 finished with value: -901.197102542909 and parameters: {'max_depth': 725, 'min_samples_split': 413, 'min_samples_leaf': 27, 'max_features': 0.803, 'max_leaf_nodes': 242}. Best is trial 116 with value: -896.9219377138264.\n",
      "[I 2023-10-10 21:46:24,687] Trial 162 finished with value: -905.458580224197 and parameters: {'max_depth': 729, 'min_samples_split': 449, 'min_samples_leaf': 27, 'max_features': 0.797, 'max_leaf_nodes': 240}. Best is trial 116 with value: -896.9219377138264.\n",
      "[I 2023-10-10 21:46:27,330] Trial 163 finished with value: -903.4749811795906 and parameters: {'max_depth': 678, 'min_samples_split': 308, 'min_samples_leaf': 26, 'max_features': 0.747, 'max_leaf_nodes': 273}. Best is trial 116 with value: -896.9219377138264.\n",
      "[I 2023-10-10 21:46:29,760] Trial 164 finished with value: -910.0600619030849 and parameters: {'max_depth': 714, 'min_samples_split': 630, 'min_samples_leaf': 28, 'max_features': 0.821, 'max_leaf_nodes': 255}. Best is trial 116 with value: -896.9219377138264.\n",
      "[I 2023-10-10 21:46:31,312] Trial 165 finished with value: -930.7661285064011 and parameters: {'max_depth': 760, 'min_samples_split': 839, 'min_samples_leaf': 25, 'max_features': 0.551, 'max_leaf_nodes': 314}. Best is trial 116 with value: -896.9219377138264.\n",
      "[I 2023-10-10 21:46:31,913] Trial 166 finished with value: -1003.4122445662275 and parameters: {'max_depth': 736, 'min_samples_split': 7116, 'min_samples_leaf': 27, 'max_features': 0.43300000000000005, 'max_leaf_nodes': 206}. Best is trial 116 with value: -896.9219377138264.\n",
      "[I 2023-10-10 21:46:34,135] Trial 167 finished with value: -926.8713537695752 and parameters: {'max_depth': 800, 'min_samples_split': 1137, 'min_samples_leaf': 28, 'max_features': 0.882, 'max_leaf_nodes': 286}. Best is trial 116 with value: -896.9219377138264.\n",
      "[I 2023-10-10 21:46:36,081] Trial 168 finished with value: -907.9045154790547 and parameters: {'max_depth': 753, 'min_samples_split': 423, 'min_samples_leaf': 26, 'max_features': 0.593, 'max_leaf_nodes': 383}. Best is trial 116 with value: -896.9219377138264.\n",
      "[I 2023-10-10 21:46:38,928] Trial 169 finished with value: -908.1402648315973 and parameters: {'max_depth': 709, 'min_samples_split': 196, 'min_samples_leaf': 25, 'max_features': 0.774, 'max_leaf_nodes': 354}. Best is trial 116 with value: -896.9219377138264.\n",
      "[I 2023-10-10 21:46:41,359] Trial 170 finished with value: -906.1200625488709 and parameters: {'max_depth': 780, 'min_samples_split': 538, 'min_samples_leaf': 27, 'max_features': 0.8039999999999999, 'max_leaf_nodes': 300}. Best is trial 116 with value: -896.9219377138264.\n",
      "[I 2023-10-10 21:46:43,660] Trial 171 finished with value: -899.050541173814 and parameters: {'max_depth': 722, 'min_samples_split': 334, 'min_samples_leaf': 27, 'max_features': 0.79, 'max_leaf_nodes': 31}. Best is trial 116 with value: -896.9219377138264.\n",
      "[I 2023-10-10 21:46:45,952] Trial 172 finished with value: -899.223376921925 and parameters: {'max_depth': 689, 'min_samples_split': 282, 'min_samples_leaf': 27, 'max_features': 0.759, 'max_leaf_nodes': 30}. Best is trial 116 with value: -896.9219377138264.\n",
      "[I 2023-10-10 21:46:48,323] Trial 173 finished with value: -920.9348983297805 and parameters: {'max_depth': 680, 'min_samples_split': 37, 'min_samples_leaf': 28, 'max_features': 0.788, 'max_leaf_nodes': 45}. Best is trial 116 with value: -896.9219377138264.\n",
      "[I 2023-10-10 21:46:50,028] Trial 174 finished with value: -919.8556044341985 and parameters: {'max_depth': 696, 'min_samples_split': 704, 'min_samples_leaf': 27, 'max_features': 0.757, 'max_leaf_nodes': 10}. Best is trial 116 with value: -896.9219377138264.\n",
      "[I 2023-10-10 21:46:51,945] Trial 175 finished with value: -904.1962364194694 and parameters: {'max_depth': 712, 'min_samples_split': 323, 'min_samples_leaf': 27, 'max_features': 0.739, 'max_leaf_nodes': 20}. Best is trial 116 with value: -896.9219377138264.\n",
      "[I 2023-10-10 21:46:54,441] Trial 176 finished with value: -907.8191220471756 and parameters: {'max_depth': 725, 'min_samples_split': 526, 'min_samples_leaf': 20, 'max_features': 0.857, 'max_leaf_nodes': 32}. Best is trial 116 with value: -896.9219377138264.\n",
      "[I 2023-10-10 21:46:57,239] Trial 177 finished with value: -900.1157125597534 and parameters: {'max_depth': 97, 'min_samples_split': 233, 'min_samples_leaf': 28, 'max_features': 0.831, 'max_leaf_nodes': 60}. Best is trial 116 with value: -896.9219377138264.\n",
      "[I 2023-10-10 21:47:00,078] Trial 178 finished with value: -907.5502168957121 and parameters: {'max_depth': 12, 'min_samples_split': 174, 'min_samples_leaf': 28, 'max_features': 0.835, 'max_leaf_nodes': 64}. Best is trial 116 with value: -896.9219377138264.\n",
      "[I 2023-10-10 21:47:02,389] Trial 179 finished with value: -909.8547062269408 and parameters: {'max_depth': 294, 'min_samples_split': 23, 'min_samples_leaf': 29, 'max_features': 0.82, 'max_leaf_nodes': 32}. Best is trial 116 with value: -896.9219377138264.\n",
      "[I 2023-10-10 21:47:04,601] Trial 180 finished with value: -912.0297451914093 and parameters: {'max_depth': 655, 'min_samples_split': 711, 'min_samples_leaf': 30, 'max_features': 0.8049999999999999, 'max_leaf_nodes': 50}. Best is trial 116 with value: -896.9219377138264.\n",
      "[I 2023-10-10 21:47:07,086] Trial 181 finished with value: -903.4919847608155 and parameters: {'max_depth': 51, 'min_samples_split': 393, 'min_samples_leaf': 28, 'max_features': 0.768, 'max_leaf_nodes': 93}. Best is trial 116 with value: -896.9219377138264.\n",
      "[I 2023-10-10 21:47:09,420] Trial 182 finished with value: -899.6646740719767 and parameters: {'max_depth': 168, 'min_samples_split': 247, 'min_samples_leaf': 27, 'max_features': 0.789, 'max_leaf_nodes': 35}. Best is trial 116 with value: -896.9219377138264.\n",
      "[I 2023-10-10 21:47:11,704] Trial 183 finished with value: -907.8217931082897 and parameters: {'max_depth': 97, 'min_samples_split': 492, 'min_samples_leaf': 28, 'max_features': 0.784, 'max_leaf_nodes': 32}. Best is trial 116 with value: -896.9219377138264.\n",
      "[I 2023-10-10 21:47:14,687] Trial 184 finished with value: -902.715168001038 and parameters: {'max_depth': 170, 'min_samples_split': 224, 'min_samples_leaf': 27, 'max_features': 0.837, 'max_leaf_nodes': 59}. Best is trial 116 with value: -896.9219377138264.\n",
      "[I 2023-10-10 21:47:16,991] Trial 185 finished with value: -913.0916930089337 and parameters: {'max_depth': 321, 'min_samples_split': 613, 'min_samples_leaf': 29, 'max_features': 0.801, 'max_leaf_nodes': 37}. Best is trial 116 with value: -896.9219377138264.\n",
      "[I 2023-10-10 21:47:19,169] Trial 186 finished with value: -918.1685273695672 and parameters: {'max_depth': 34, 'min_samples_split': 944, 'min_samples_leaf': 26, 'max_features': 0.907, 'max_leaf_nodes': 26}. Best is trial 116 with value: -896.9219377138264.\n",
      "[I 2023-10-10 21:47:22,183] Trial 187 finished with value: -908.19476008792 and parameters: {'max_depth': 132, 'min_samples_split': 225, 'min_samples_leaf': 27, 'max_features': 0.868, 'max_leaf_nodes': 69}. Best is trial 116 with value: -896.9219377138264.\n",
      "[I 2023-10-10 21:47:24,617] Trial 188 finished with value: -901.5954972535106 and parameters: {'max_depth': 689, 'min_samples_split': 387, 'min_samples_leaf': 26, 'max_features': 0.765, 'max_leaf_nodes': 49}. Best is trial 116 with value: -896.9219377138264.\n",
      "[I 2023-10-10 21:47:26,657] Trial 189 finished with value: -913.8175432344511 and parameters: {'max_depth': 723, 'min_samples_split': 586, 'min_samples_leaf': 28, 'max_features': 0.814, 'max_leaf_nodes': 16}. Best is trial 116 with value: -896.9219377138264.\n",
      "[I 2023-10-10 21:47:29,843] Trial 190 finished with value: -948.6779636947664 and parameters: {'max_depth': 239, 'min_samples_split': 47, 'min_samples_leaf': 28, 'max_features': 0.791, 'max_leaf_nodes': 178}. Best is trial 116 with value: -896.9219377138264.\n",
      "[I 2023-10-10 21:47:32,421] Trial 191 finished with value: -907.1578340361764 and parameters: {'max_depth': 130, 'min_samples_split': 253, 'min_samples_leaf': 26, 'max_features': 0.762, 'max_leaf_nodes': 51}. Best is trial 116 with value: -896.9219377138264.\n",
      "[I 2023-10-10 21:47:34,959] Trial 192 finished with value: -908.43803102609 and parameters: {'max_depth': 202, 'min_samples_split': 438, 'min_samples_leaf': 21, 'max_features': 0.776, 'max_leaf_nodes': 66}. Best is trial 116 with value: -896.9219377138264.\n",
      "[I 2023-10-10 21:47:37,434] Trial 193 finished with value: -905.3084838170611 and parameters: {'max_depth': 678, 'min_samples_split': 413, 'min_samples_leaf': 26, 'max_features': 0.742, 'max_leaf_nodes': 81}. Best is trial 116 with value: -896.9219377138264.\n",
      "[I 2023-10-10 21:47:39,771] Trial 194 finished with value: -920.7631813653419 and parameters: {'max_depth': 686, 'min_samples_split': 760, 'min_samples_leaf': 27, 'max_features': 0.852, 'max_leaf_nodes': 26}. Best is trial 116 with value: -896.9219377138264.\n",
      "[I 2023-10-10 21:47:42,180] Trial 195 finished with value: -903.0857150373911 and parameters: {'max_depth': 103, 'min_samples_split': 300, 'min_samples_leaf': 27, 'max_features': 0.75, 'max_leaf_nodes': 44}. Best is trial 116 with value: -896.9219377138264.\n",
      "[I 2023-10-10 21:47:45,615] Trial 196 finished with value: -958.410763310364 and parameters: {'max_depth': 544, 'min_samples_split': 32, 'min_samples_leaf': 26, 'max_features': 0.831, 'max_leaf_nodes': 260}. Best is trial 116 with value: -896.9219377138264.\n",
      "[I 2023-10-10 21:47:47,969] Trial 197 finished with value: -907.3443558915673 and parameters: {'max_depth': 72, 'min_samples_split': 539, 'min_samples_leaf': 27, 'max_features': 0.763, 'max_leaf_nodes': 281}. Best is trial 116 with value: -896.9219377138264.\n",
      "[I 2023-10-10 21:47:50,197] Trial 198 finished with value: -916.9464794374346 and parameters: {'max_depth': 743, 'min_samples_split': 826, 'min_samples_leaf': 14, 'max_features': 0.786, 'max_leaf_nodes': 233}. Best is trial 116 with value: -896.9219377138264.\n",
      "[I 2023-10-10 21:47:52,627] Trial 199 finished with value: -903.0833335063971 and parameters: {'max_depth': 697, 'min_samples_split': 326, 'min_samples_leaf': 29, 'max_features': 0.727, 'max_leaf_nodes': 99}. Best is trial 116 with value: -896.9219377138264.\n"
     ]
    },
    {
     "name": "stdout",
     "output_type": "stream",
     "text": [
      "Best score: -896.9219377138264\n",
      "Best parameters: {'max_depth': 671, 'min_samples_split': 341, 'min_samples_leaf': 23, 'max_features': 0.741, 'max_leaf_nodes': 30}\n"
     ]
    }
   ],
   "source": [
    "def objective(trial):\n",
    "    # 하이퍼파라미터 검색 범위 설정-----------------------------------------\n",
    "    max_depth = trial.suggest_int('max_depth', 10, 800)  \n",
    "    min_samples_split = trial.suggest_int('min_samples_split', 20, 10000)\n",
    "    min_samples_leaf = trial.suggest_int('min_samples_leaf', 10, 30)\n",
    "    max_features = trial.suggest_float('max_features', 0.1, 1.0, step=0.001)\n",
    "    max_leaf_nodes = trial.suggest_int('max_leaf_nodes', 10, 800)\n",
    "    \n",
    "    # 모델 생성------------------------------------------------------------\n",
    "    dtr = DecisionTreeRegressor(\n",
    "        max_depth=max_depth,\n",
    "        min_samples_split=min_samples_split,\n",
    "        min_samples_leaf=min_samples_leaf,\n",
    "        max_features=max_features,\n",
    "        max_leaf_nodes=max_leaf_nodes,\n",
    "        random_state=0\n",
    "    )\n",
    "    \n",
    "    # 모델을 5번 교차검증---------------------------------------------------\n",
    "    score = cross_val_score(dtr, X_train, y_train, cv=5, n_jobs=-1, scoring='neg_root_mean_squared_error')\n",
    "    rmse = score.mean()  # 최적화 목표는 최대화이므로 음수로 변환\n",
    "\n",
    "    return rmse\n",
    "\n",
    "# X_train, X_test, y_train, y_test를 적절하게 설정\n",
    "\n",
    "study = optuna.create_study(direction='maximize')\n",
    "study.optimize(objective, n_trials=200)\n",
    "\n",
    "# 최적 하이퍼파라미터 출력\n",
    "best_params = study.best_params\n",
    "best_neg_rmse = study.best_value\n",
    "print(f\"Best score: {best_neg_rmse}\")\n",
    "print(f\"Best parameters: {best_params}\")\n",
    "\n",
    "# 최적 하이퍼파라미터 조합들을 저장할 딕셔너리 생성\n",
    "optuna_results = {\n",
    "    \"best_score\": best_neg_rmse,\n",
    "    \"best_params\": best_params,\n",
    "    \"all_trials\": []\n",
    "}\n",
    "\n",
    "# 모든 하이퍼파라미터 조합과 성능을 저장\n",
    "for trial in study.trials:\n",
    "    trial_info = {\n",
    "        \"params\": trial.params,\n",
    "        \"value\": trial.value,\n",
    "        \"state\": trial.state\n",
    "    }\n",
    "    optuna_results[\"all_trials\"].append(trial_info)\n",
    "\n",
    "# JSON 파일로 저장\n",
    "import json\n",
    "with open(\"optuna_results.json\", \"w\") as f:\n",
    "    json.dump(optuna_results, f)"
   ]
  },
  {
   "cell_type": "code",
   "execution_count": 89,
   "metadata": {},
   "outputs": [
    {
     "name": "stderr",
     "output_type": "stream",
     "text": [
      "100%|█████████████████████████████████████████████████████████████████████████████████| 200/200 [07:14<00:00,  2.17s/it]"
     ]
    },
    {
     "name": "stdout",
     "output_type": "stream",
     "text": [
      "-908.8421267097376 {'max_depth': 51, 'min_samples_split': 393, 'min_samples_leaf': 28, 'max_features': 0.768, 'max_leaf_nodes': 93}\n"
     ]
    },
    {
     "name": "stderr",
     "output_type": "stream",
     "text": [
      "\n"
     ]
    }
   ],
   "source": [
    "max_nrmse = -100000000\n",
    "\n",
    "for result in tqdm(optuna_results[\"all_trials\"]):\n",
    "    cnt +=1\n",
    "#     print(\"{}번째 추론 중입니다.\".format(cnt))\n",
    "    best_model = DecisionTreeRegressor(**result[\"params\"])\n",
    "    best_model.fit(X_train, y_train)\n",
    "    y_pred = best_model.predict(X_test)\n",
    "    nrmse = -np.sqrt(mean_squared_error(y_test, y_pred))\n",
    "    if nrmse > max_nrmse:\n",
    "        max_nrmse = nrmse\n",
    "        max_params = result[\"params\"]\n",
    "print(max_nrmse, max_params)"
   ]
  },
  {
   "cell_type": "markdown",
   "metadata": {},
   "source": [
    "# -----------------------------------------------------"
   ]
  }
 ],
 "metadata": {
  "accelerator": "GPU",
  "colab": {
   "authorship_tag": "ABX9TyOAKb6ijDaQyzuRXvhJc/hZ",
   "gpuType": "T4",
   "mount_file_id": "1n9Khg16K_-YCy9rrdmLPpBpFHjsyTa8s",
   "provenance": []
  },
  "kernelspec": {
   "display_name": "Python 3 (ipykernel)",
   "language": "python",
   "name": "python3"
  },
  "language_info": {
   "codemirror_mode": {
    "name": "ipython",
    "version": 3
   },
   "file_extension": ".py",
   "mimetype": "text/x-python",
   "name": "python",
   "nbconvert_exporter": "python",
   "pygments_lexer": "ipython3",
   "version": "3.8.10"
  }
 },
 "nbformat": 4,
 "nbformat_minor": 1
}
